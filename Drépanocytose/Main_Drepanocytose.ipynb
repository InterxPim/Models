{
  "nbformat": 4,
  "nbformat_minor": 0,
  "metadata": {
    "colab": {
      "name": "Main_Drepanocytose.ipynb",
      "provenance": []
    },
    "kernelspec": {
      "name": "python3",
      "display_name": "Python 3"
    },
    "language_info": {
      "name": "python"
    }
  },
  "cells": [
    {
      "cell_type": "code",
      "execution_count": 2,
      "metadata": {
        "colab": {
          "base_uri": "https://localhost:8080/"
        },
        "id": "M1mE6vXEggFa",
        "outputId": "079bd461-615a-4e2d-f67b-c05bb44738eb"
      },
      "outputs": [
        {
          "output_type": "stream",
          "name": "stdout",
          "text": [
            "Cloning into 'Models'...\n",
            "remote: Enumerating objects: 3, done.\u001b[K\n",
            "remote: Counting objects: 100% (3/3), done.\u001b[K\n",
            "remote: Compressing objects: 100% (2/2), done.\u001b[K\n",
            "remote: Total 3 (delta 0), reused 0 (delta 0), pack-reused 0\u001b[K\n",
            "Unpacking objects: 100% (3/3), done.\n"
          ]
        }
      ],
      "source": [
        "!git clone https://github.com/InterxPim/Models.git"
      ]
    },
    {
      "cell_type": "code",
      "source": [
        "%cd Models/Drépanocytose"
      ],
      "metadata": {
        "colab": {
          "base_uri": "https://localhost:8080/"
        },
        "id": "0cs-tgOgjPkw",
        "outputId": "dc9f5e4d-5821-4271-f227-c97ed7d269bf"
      },
      "execution_count": 4,
      "outputs": [
        {
          "output_type": "stream",
          "name": "stdout",
          "text": [
            "/content/Models\n"
          ]
        }
      ]
    },
    {
      "cell_type": "code",
      "source": [
        "!pip install -r requirement.txt"
      ],
      "metadata": {
        "id": "xy-7EykBjjNG"
      },
      "execution_count": null,
      "outputs": []
    },
    {
      "cell_type": "code",
      "source": [
        "import tensorflow as tf\n",
        "import keras as K\n",
        "tf.__version__, K.__version__"
      ],
      "metadata": {
        "id": "9GbRf0uZkiSE"
      },
      "execution_count": null,
      "outputs": []
    },
    {
      "cell_type": "code",
      "source": [
        "import source.toolkit as tk\n",
        "import source.dojo_tools as dj\n",
        "\n",
        "from source.toolkit import list_channels\n",
        "from source.toolkit import list_channels_df\n",
        "\n",
        "# load main class object for monitoring blood cells\n",
        "from source.SickleML_Monitor import CountAdheredBloodCells\n",
        "\n",
        "# loading tools for extracting gdrive data\n",
        "import source.load_data_tools as loading_tools\n",
        "\n",
        "import os\n",
        "import pandas as pd\n",
        "import time\n",
        "from tqdm import tqdm\n",
        "import sys\n",
        "import gdown\n",
        "from natsort import natsorted"
      ],
      "metadata": {
        "id": "s9j10yRdklKa"
      },
      "execution_count": null,
      "outputs": []
    },
    {
      "cell_type": "code",
      "source": [
        "os.makedirs(f'./Phase2_Pretrained-models/Resnet50/', exist_ok = True)\n",
        "os.chdir(f'./Phase2_Pretrained-models/Resnet50/') \n",
        "\n",
        "loading_tools.resnet50_gdrive_()\n",
        "    \n",
        "os.chdir(f'../')\n",
        "os.chdir(f'../')\n",
        "\n",
        "\n",
        "os.makedirs(f'./Phase1_Pretrained-models/ce-jaccard_encoder-decoder-net/', exist_ok = True)\n",
        "os.chdir(f'./Phase1_Pretrained-models/ce-jaccard_encoder-decoder-net/') \n",
        "\n",
        "loading_tools.ce_jaccard_gdrive_()\n",
        "    \n",
        "os.chdir(f'../')\n",
        "os.chdir(f'../')\n"
      ],
      "metadata": {
        "id": "IxwHQdxtkqVs"
      },
      "execution_count": null,
      "outputs": []
    },
    {
      "cell_type": "code",
      "source": [
        "channel_path= './data/Manual-VS-AI/'\n",
        "os.makedirs(channel_path, exist_ok=True)\n",
        "os.chdir(channel_path)\n",
        "loading_tools.laminin_channel_gdrive_()\n",
        "os.chdir('../')\n",
        "os.chdir('../')\n",
        "channel_filenames  =  os.listdir(channel_path)"
      ],
      "metadata": {
        "id": "f3ZCQ-BHkxoa"
      },
      "execution_count": null,
      "outputs": []
    },
    {
      "cell_type": "code",
      "source": [
        "print(f'Number of channels: {len(channel_filenames)}')\n",
        "channel_filenames"
      ],
      "metadata": {
        "id": "h3PfGcp2k1mO"
      },
      "execution_count": null,
      "outputs": []
    },
    {
      "cell_type": "code",
      "source": [
        "def load_ensembles(Phase1_path_model, Phase2_path_model):\n",
        "\n",
        "    Phase1_path = './Phase1_Pretrained-models/' + Phase1_path_model + '/'# folder for Phase I \n",
        "    Phase1_filenames = natsorted(os.listdir(Phase1_path))\n",
        "    Phase1_final_filenames = []\n",
        "    for ii in range(len(Phase1_filenames)):\n",
        "        if ii % 2 != 0:\n",
        "            Phase1_final_filenames.append(Phase1_filenames[ii].replace('.json', ''))\n",
        "\n",
        "    Phase2_path = './Phase2_Pretrained-models/' + Phase2_path_model + '/'# folder for Phase II\n",
        "    Phase2_filenames = natsorted(os.listdir(Phase2_path))\n",
        "    Phase2_final_filenames = []\n",
        "    for ii in range(len(Phase2_filenames)):\n",
        "        if ii % 2 != 0:\n",
        "            Phase2_final_filenames.append(Phase2_filenames[ii].replace('.json',''))\n",
        "\n",
        "\n",
        "    Phase1_ensemble = tk.load_zoo(Phase1_path, Phase1_final_filenames) # loading the Phase I ensemble (expect: 7)\n",
        "    Phase2_ensemble = tk.load_zoo(Phase2_path, Phase2_final_filenames) # loading the Phase I ensemble (expect: 5)\n",
        "    return Phase1_ensemble, Phase2_ensemble\n",
        "\n",
        "def create_final_df(counts, times):\n",
        "    counts_df = pd.DataFrame(counts)\n",
        "    counts_df.columns = ['filename', 'def-sRBC', 'nondef-sRBC', 'Other']\n",
        "    times_df = pd.DataFrame(times)\n",
        "    times_df.columns = ['time_secs']\n",
        "    final_df = pd.concat([counts_df, times_df], axis = 1)\n",
        "    return final_df"
      ],
      "metadata": {
        "id": "3uHMyJfWk6wx"
      },
      "execution_count": null,
      "outputs": []
    },
    {
      "cell_type": "code",
      "source": [
        "%%time \n",
        "\n",
        "\n",
        "\n",
        "counts, times = [], [] \n",
        "count_container, time_container = [], []\n",
        "\n",
        "rbc_thres = [0.4]\n",
        "wbc_thres = [0.4]\n",
        "other_thres = [0.9]\n",
        "\n",
        "Phase1_names, Phase2_names = 'ce-jaccard_encoder-decoder-net', 'Resnet50'\n",
        "\n",
        "Phase1_ensemble, Phase2_ensemble = load_ensembles(Phase1_names, Phase2_names)\n",
        "counts, times = [], [] \n",
        "\n",
        "for index, filenames in enumerate(channel_filenames):\n",
        "    for rep in ((\".png\", \"\"), (\".jpg\", \"\")):\n",
        "        clean_filename = filenames.replace(*rep)\n",
        "    print('Analysis:', index, '| Channel:', clean_filename)\n",
        "    print('==================================================================')\n",
        "    channel = CountAdheredBloodCells(channel_path, filenames) # calling the class object\n",
        "    # calling the function to output cell counts\n",
        "    start = time.time()\n",
        "    sRBC, WBC, Others, img_container, sRBC_container, WBC_container, Other_container = channel.call_pipeline(Phase1_ensemble, Phase2_ensemble, rbc_thres, wbc_thres, other_thres)\n",
        "    end = time.time()\n",
        "    run_time = end-start\n",
        "            \n",
        "    times.append([run_time])\n",
        "    counts.append([filenames, sRBC, WBC, Others])\n",
        "            \n",
        "    final_df = create_final_df(counts,times)\n",
        "   # final_df.to_csv(f'./AI-vs-Human_counts/{Phase1_name}_{Phase2_name}.csv', index = False)\n"
      ],
      "metadata": {
        "id": "0AkZJCxtk-5R"
      },
      "execution_count": null,
      "outputs": []
    },
    {
      "cell_type": "code",
      "source": [
        "print(\"Here is the predicted counts ...\")\n",
        "final_df"
      ],
      "metadata": {
        "id": "Di7iOxIslGKj"
      },
      "execution_count": null,
      "outputs": []
    }
  ]
}